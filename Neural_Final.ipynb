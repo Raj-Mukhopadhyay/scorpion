{
 "cells": [
  {
   "cell_type": "code",
   "execution_count": 1,
   "id": "751e827b",
   "metadata": {},
   "outputs": [],
   "source": [
    "import numpy as np\n",
    "import pandas as pd\n",
    "import matplotlib.pyplot as plt\n",
    "import neural as nl"
   ]
  },
  {
   "cell_type": "code",
   "execution_count": 2,
   "id": "a2f4f2c2",
   "metadata": {},
   "outputs": [
    {
     "data": {
      "text/html": [
       "<div>\n",
       "<style scoped>\n",
       "    .dataframe tbody tr th:only-of-type {\n",
       "        vertical-align: middle;\n",
       "    }\n",
       "\n",
       "    .dataframe tbody tr th {\n",
       "        vertical-align: top;\n",
       "    }\n",
       "\n",
       "    .dataframe thead th {\n",
       "        text-align: right;\n",
       "    }\n",
       "</style>\n",
       "<table border=\"1\" class=\"dataframe\">\n",
       "  <thead>\n",
       "    <tr style=\"text-align: right;\">\n",
       "      <th></th>\n",
       "      <th>Unnamed: 0</th>\n",
       "      <th>label</th>\n",
       "      <th>pixel1</th>\n",
       "      <th>pixel2</th>\n",
       "      <th>pixel3</th>\n",
       "      <th>pixel4</th>\n",
       "      <th>pixel5</th>\n",
       "      <th>pixel6</th>\n",
       "      <th>pixel7</th>\n",
       "      <th>pixel8</th>\n",
       "      <th>pixel9</th>\n",
       "    </tr>\n",
       "  </thead>\n",
       "  <tbody>\n",
       "    <tr>\n",
       "      <th>0</th>\n",
       "      <td>0</td>\n",
       "      <td>8</td>\n",
       "      <td>0</td>\n",
       "      <td>0</td>\n",
       "      <td>0</td>\n",
       "      <td>0</td>\n",
       "      <td>0</td>\n",
       "      <td>0</td>\n",
       "      <td>0</td>\n",
       "      <td>0</td>\n",
       "      <td>0</td>\n",
       "    </tr>\n",
       "    <tr>\n",
       "      <th>1</th>\n",
       "      <td>1</td>\n",
       "      <td>4</td>\n",
       "      <td>0</td>\n",
       "      <td>0</td>\n",
       "      <td>0</td>\n",
       "      <td>0</td>\n",
       "      <td>0</td>\n",
       "      <td>0</td>\n",
       "      <td>0</td>\n",
       "      <td>0</td>\n",
       "      <td>0</td>\n",
       "    </tr>\n",
       "    <tr>\n",
       "      <th>2</th>\n",
       "      <td>2</td>\n",
       "      <td>1</td>\n",
       "      <td>0</td>\n",
       "      <td>0</td>\n",
       "      <td>0</td>\n",
       "      <td>0</td>\n",
       "      <td>0</td>\n",
       "      <td>0</td>\n",
       "      <td>0</td>\n",
       "      <td>0</td>\n",
       "      <td>130</td>\n",
       "    </tr>\n",
       "    <tr>\n",
       "      <th>3</th>\n",
       "      <td>3</td>\n",
       "      <td>8</td>\n",
       "      <td>0</td>\n",
       "      <td>0</td>\n",
       "      <td>0</td>\n",
       "      <td>0</td>\n",
       "      <td>0</td>\n",
       "      <td>0</td>\n",
       "      <td>0</td>\n",
       "      <td>0</td>\n",
       "      <td>0</td>\n",
       "    </tr>\n",
       "    <tr>\n",
       "      <th>4</th>\n",
       "      <td>4</td>\n",
       "      <td>2</td>\n",
       "      <td>0</td>\n",
       "      <td>0</td>\n",
       "      <td>0</td>\n",
       "      <td>0</td>\n",
       "      <td>1</td>\n",
       "      <td>0</td>\n",
       "      <td>3</td>\n",
       "      <td>0</td>\n",
       "      <td>0</td>\n",
       "    </tr>\n",
       "  </tbody>\n",
       "</table>\n",
       "</div>"
      ],
      "text/plain": [
       "   Unnamed: 0  label  pixel1  pixel2  pixel3  pixel4  pixel5  pixel6  pixel7  \\\n",
       "0           0      8       0       0       0       0       0       0       0   \n",
       "1           1      4       0       0       0       0       0       0       0   \n",
       "2           2      1       0       0       0       0       0       0       0   \n",
       "3           3      8       0       0       0       0       0       0       0   \n",
       "4           4      2       0       0       0       0       1       0       3   \n",
       "\n",
       "   pixel8  pixel9  \n",
       "0       0       0  \n",
       "1       0       0  \n",
       "2       0     130  \n",
       "3       0       0  \n",
       "4       0       0  "
      ]
     },
     "execution_count": 2,
     "metadata": {},
     "output_type": "execute_result"
    }
   ],
   "source": [
    "data=pd.read_csv(\"classification_train_miniature.csv\")\n",
    "data.head()"
   ]
  },
  {
   "cell_type": "code",
   "execution_count": 3,
   "id": "db590fda",
   "metadata": {},
   "outputs": [],
   "source": [
    "l=list()\n",
    "for c in range(1,10):\n",
    "    l.append(data[f\"pixel{c}\"])\n",
    "xtemp=np.array(l)\n",
    "x_train=np.transpose(xtemp)\n",
    "y_train=np.array(data['label'])"
   ]
  },
  {
   "cell_type": "code",
   "execution_count": 4,
   "id": "24f373e7",
   "metadata": {},
   "outputs": [
    {
     "name": "stdout",
     "output_type": "stream",
     "text": [
      "Column\tRange\n",
      "\n",
      "pixel1 \t0---16\n",
      "\n",
      "pixel2 \t0---16\n",
      "\n",
      "pixel3 \t0---16\n",
      "\n",
      "pixel4 \t0---16\n",
      "\n",
      "pixel5 \t0---16\n",
      "\n",
      "pixel6 \t0---16\n",
      "\n",
      "pixel7 \t0---121\n",
      "\n",
      "pixel8 \t0---170\n",
      "\n",
      "pixel9 \t0---209\n",
      "\n",
      "_____________________________________________________________\n",
      "label\t0---9\n",
      "\n"
     ]
    }
   ],
   "source": [
    "print(\"Column\\tRange\\n\")\n",
    "for i in range(len(xtemp)):\n",
    "    print(f\"pixel{i+1} \\t{min(xtemp[i])}---{max(xtemp[i])}\\n\")\n",
    "print(\"_____________________________________________________________\")\n",
    "print(f\"label\\t{min(y_train)}---{max(y_train)}\\n\")"
   ]
  },
  {
   "cell_type": "code",
   "execution_count": 5,
   "id": "03196d1c",
   "metadata": {},
   "outputs": [],
   "source": [
    "for i in range(len(xtemp)):\n",
    "    if max(xtemp[i])>1:\n",
    "        xtemp[i]=nl.scale_down(xtemp[i])\n",
    "x_train=np.transpose(xtemp)"
   ]
  },
  {
   "cell_type": "code",
   "execution_count": 6,
   "id": "0f5040c4",
   "metadata": {},
   "outputs": [
    {
     "name": "stdout",
     "output_type": "stream",
     "text": [
      "Column\tRange\n",
      "\n",
      "pixel1 \t0---1\n",
      "\n",
      "pixel2 \t0---1\n",
      "\n",
      "pixel3 \t0---1\n",
      "\n",
      "pixel4 \t0---1\n",
      "\n",
      "pixel5 \t0---1\n",
      "\n",
      "pixel6 \t0---1\n",
      "\n",
      "pixel7 \t0---1\n",
      "\n",
      "pixel8 \t0---1\n",
      "\n",
      "pixel9 \t0---1\n",
      "\n",
      "_____________________________________________________________\n",
      "label\t0---9\n",
      "\n"
     ]
    }
   ],
   "source": [
    "print(\"Column\\tRange\\n\")\n",
    "for i in range(len(xtemp)):\n",
    "    print(f\"pixel{i+1} \\t{min(xtemp[i])}---{max(xtemp[i])}\\n\")\n",
    "print(\"_____________________________________________________________\")\n",
    "print(f\"label\\t{min(y_train)}---{max(y_train)}\\n\")"
   ]
  },
  {
   "cell_type": "code",
   "execution_count": 16,
   "id": "d79fed02",
   "metadata": {},
   "outputs": [
    {
     "name": "stdout",
     "output_type": "stream",
     "text": [
      "-------------------------------------------------------------------------------------\n",
      "epsilon---> 0\n",
      "Cost Function(J)---> 633.2109005733606\n",
      "-------------------------------------------------------------------------------------\n",
      "-------------------------------------------------------------------------------------\n",
      "epsilon---> 50\n",
      "Cost Function(J)---> 630.5551895421099\n",
      "-------------------------------------------------------------------------------------\n"
     ]
    },
    {
     "data": {
      "image/png": "[encoded data removed]",
      "text/plain": [
       "<Figure size 640x480 with 1 Axes>"
      ]
     },
     "metadata": {},
     "output_type": "display_data"
    }
   ],
   "source": [
    "wbcol=nl.classify(x_train,y_train,0.00001,97,3,[16,16,16])"
   ]
  },
  {
   "cell_type": "code",
   "execution_count": null,
   "id": "7ca33fc2",
   "metadata": {},
   "outputs": [],
   "source": []
  }
 ],
 "metadata": {
  "kernelspec": {
   "display_name": "Python 3 (ipykernel)",
   "language": "python",
   "name": "python3"
  },
  "language_info": {
   "codemirror_mode": {
    "name": "ipython",
    "version": 3
   },
   "file_extension": ".py",
   "mimetype": "text/x-python",
   "name": "python",
   "nbconvert_exporter": "python",
   "pygments_lexer": "ipython3",
   "version": "3.9.13"
  }
 },
 "nbformat": 4,
 "nbformat_minor": 5
}
