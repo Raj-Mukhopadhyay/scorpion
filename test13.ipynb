{
 "cells": [
  {
   "cell_type": "code",
   "execution_count": 1,
   "id": "53f652ca",
   "metadata": {},
   "outputs": [],
   "source": [
    "import numpy as np\n",
    "import matplotlib.pyplot as plt\n",
    "import pandas as pd\n",
    "import neural as cl"
   ]
  },
  {
   "cell_type": "code",
   "execution_count": 2,
   "id": "4a6a7d5c",
   "metadata": {},
   "outputs": [
    {
     "data": {
      "text/html": [
       "<div>\n",
       "<style scoped>\n",
       "    .dataframe tbody tr th:only-of-type {\n",
       "        vertical-align: middle;\n",
       "    }\n",
       "\n",
       "    .dataframe tbody tr th {\n",
       "        vertical-align: top;\n",
       "    }\n",
       "\n",
       "    .dataframe thead th {\n",
       "        text-align: right;\n",
       "    }\n",
       "</style>\n",
       "<table border=\"1\" class=\"dataframe\">\n",
       "  <thead>\n",
       "    <tr style=\"text-align: right;\">\n",
       "      <th></th>\n",
       "      <th>Unnamed: 0</th>\n",
       "      <th>pixel1</th>\n",
       "      <th>pixel2</th>\n",
       "      <th>pixel3</th>\n",
       "      <th>label</th>\n",
       "    </tr>\n",
       "  </thead>\n",
       "  <tbody>\n",
       "    <tr>\n",
       "      <th>0</th>\n",
       "      <td>1</td>\n",
       "      <td>5.0</td>\n",
       "      <td>22.0</td>\n",
       "      <td>85.0</td>\n",
       "      <td>1</td>\n",
       "    </tr>\n",
       "    <tr>\n",
       "      <th>1</th>\n",
       "      <td>2</td>\n",
       "      <td>6.0</td>\n",
       "      <td>36.0</td>\n",
       "      <td>69.0</td>\n",
       "      <td>0</td>\n",
       "    </tr>\n",
       "    <tr>\n",
       "      <th>2</th>\n",
       "      <td>3</td>\n",
       "      <td>3.0</td>\n",
       "      <td>2.0</td>\n",
       "      <td>63.0</td>\n",
       "      <td>1</td>\n",
       "    </tr>\n",
       "    <tr>\n",
       "      <th>3</th>\n",
       "      <td>4</td>\n",
       "      <td>2.0</td>\n",
       "      <td>220.0</td>\n",
       "      <td>66.0</td>\n",
       "      <td>0</td>\n",
       "    </tr>\n",
       "    <tr>\n",
       "      <th>4</th>\n",
       "      <td>5</td>\n",
       "      <td>1.0</td>\n",
       "      <td>125.0</td>\n",
       "      <td>52.0</td>\n",
       "      <td>1</td>\n",
       "    </tr>\n",
       "  </tbody>\n",
       "</table>\n",
       "</div>"
      ],
      "text/plain": [
       "   Unnamed: 0  pixel1  pixel2  pixel3  label\n",
       "0           1     5.0    22.0    85.0      1\n",
       "1           2     6.0    36.0    69.0      0\n",
       "2           3     3.0     2.0    63.0      1\n",
       "3           4     2.0   220.0    66.0      0\n",
       "4           5     1.0   125.0    52.0      1"
      ]
     },
     "execution_count": 2,
     "metadata": {},
     "output_type": "execute_result"
    }
   ],
   "source": [
    "data=pd.read_csv(\"classification_train_miniature.csv\")\n",
    "data.head()"
   ]
  },
  {
   "cell_type": "code",
   "execution_count": 3,
   "id": "877c5e64",
   "metadata": {},
   "outputs": [],
   "source": [
    "l=list()\n",
    "for c in range(1,4):\n",
    "    l.append(data[f\"pixel{c}\"])\n",
    "xtemp=np.array(l)\n",
    "x_train=np.transpose(xtemp)\n",
    "y_train=np.array(data['label'])"
   ]
  },
  {
   "cell_type": "code",
   "execution_count": 4,
   "id": "54be0b98",
   "metadata": {},
   "outputs": [
    {
     "name": "stdout",
     "output_type": "stream",
     "text": [
      "Column\tRange\n",
      "\n",
      "pixel1 \t0.0---121.0\n",
      "\n",
      "pixel2 \t0.0---255.0\n",
      "\n",
      "pixel3 \t0.0---235.0\n",
      "\n",
      "_____________________________________________________________\n",
      "label\t0---1\n",
      "\n"
     ]
    }
   ],
   "source": [
    "print(\"Column\\tRange\\n\")\n",
    "for i in range(len(xtemp)):\n",
    "    print(f\"pixel{i+1} \\t{min(xtemp[i])}---{max(xtemp[i])}\\n\")\n",
    "print(\"_____________________________________________________________\")\n",
    "print(f\"label\\t{min(y_train)}---{max(y_train)}\\n\")"
   ]
  },
  {
   "cell_type": "code",
   "execution_count": 5,
   "id": "c528111b",
   "metadata": {},
   "outputs": [],
   "source": [
    "for i in range(len(xtemp)):\n",
    "    if max(xtemp[i])>1:\n",
    "        xtemp[i]=cl.scale_down(xtemp[i])\n",
    "x_train=np.transpose(xtemp)"
   ]
  },
  {
   "cell_type": "code",
   "execution_count": 6,
   "id": "37eacd82",
   "metadata": {},
   "outputs": [
    {
     "name": "stdout",
     "output_type": "stream",
     "text": [
      "Column\tRange\n",
      "\n",
      "pixel1 \t0.0---1.0\n",
      "\n",
      "pixel2 \t0.0---1.0\n",
      "\n",
      "pixel3 \t0.0---1.0\n",
      "\n",
      "_____________________________________________________________\n",
      "label\t0---1\n",
      "\n"
     ]
    }
   ],
   "source": [
    "print(\"Column\\tRange\\n\")\n",
    "for i in range(len(xtemp)):\n",
    "    print(f\"pixel{i+1} \\t{min(xtemp[i])}---{max(xtemp[i])}\\n\")\n",
    "print(\"_____________________________________________________________\")\n",
    "print(f\"label\\t{min(y_train)}---{max(y_train)}\\n\")"
   ]
  },
  {
   "cell_type": "code",
   "execution_count": 7,
   "id": "b780bfde",
   "metadata": {},
   "outputs": [],
   "source": [
    "xt=np.array(x_train)"
   ]
  },
  {
   "cell_type": "code",
   "execution_count": 10,
   "id": "2db7380a",
   "metadata": {},
   "outputs": [
    {
     "name": "stdout",
     "output_type": "stream",
     "text": [
      "[array([[0., 0., 0., 0.],\n",
      "       [0., 0., 0., 0.],\n",
      "       [0., 0., 0., 0.]]), array([[0., 0., 0., 0.],\n",
      "       [0., 0., 0., 0.],\n",
      "       [0., 0., 0., 0.]]), array([[0., 0., 0., 0.],\n",
      "       [0., 0., 0., 0.]])]\n"
     ]
    }
   ],
   "source": [
    "cl.classify(xt,y_train,2,[3,3])"
   ]
  },
  {
   "cell_type": "code",
   "execution_count": null,
   "id": "c0322139",
   "metadata": {},
   "outputs": [],
   "source": []
  }
 ],
 "metadata": {
  "kernelspec": {
   "display_name": "Python 3 (ipykernel)",
   "language": "python",
   "name": "python3"
  },
  "language_info": {
   "codemirror_mode": {
    "name": "ipython",
    "version": 3
   },
   "file_extension": ".py",
   "mimetype": "text/x-python",
   "name": "python",
   "nbconvert_exporter": "python",
   "pygments_lexer": "ipython3",
   "version": "3.9.13"
  }
 },
 "nbformat": 4,
 "nbformat_minor": 5
}
